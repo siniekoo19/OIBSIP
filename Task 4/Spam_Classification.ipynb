{
 "cells": [
  {
   "cell_type": "markdown",
   "metadata": {},
   "source": [
    "## Importing the libraries"
   ]
  },
  {
   "cell_type": "code",
   "execution_count": 2,
   "metadata": {},
   "outputs": [],
   "source": [
    "import pandas as pd\n",
    "import numpy as np \n",
    "import matplotlib.pyplot as plt \n",
    "import tensorflow as tf "
   ]
  },
  {
   "cell_type": "markdown",
   "metadata": {},
   "source": [
    "## Importing the dataset"
   ]
  },
  {
   "cell_type": "code",
   "execution_count": 18,
   "metadata": {},
   "outputs": [
    {
     "data": {
      "text/html": [
       "<div>\n",
       "<style scoped>\n",
       "    .dataframe tbody tr th:only-of-type {\n",
       "        vertical-align: middle;\n",
       "    }\n",
       "\n",
       "    .dataframe tbody tr th {\n",
       "        vertical-align: top;\n",
       "    }\n",
       "\n",
       "    .dataframe thead th {\n",
       "        text-align: right;\n",
       "    }\n",
       "</style>\n",
       "<table border=\"1\" class=\"dataframe\">\n",
       "  <thead>\n",
       "    <tr style=\"text-align: right;\">\n",
       "      <th></th>\n",
       "      <th>v1</th>\n",
       "      <th>v2</th>\n",
       "    </tr>\n",
       "  </thead>\n",
       "  <tbody>\n",
       "    <tr>\n",
       "      <th>0</th>\n",
       "      <td>ham</td>\n",
       "      <td>Go until jurong point, crazy.. Available only ...</td>\n",
       "    </tr>\n",
       "    <tr>\n",
       "      <th>1</th>\n",
       "      <td>ham</td>\n",
       "      <td>Ok lar... Joking wif u oni...</td>\n",
       "    </tr>\n",
       "    <tr>\n",
       "      <th>2</th>\n",
       "      <td>spam</td>\n",
       "      <td>Free entry in 2 a wkly comp to win FA Cup fina...</td>\n",
       "    </tr>\n",
       "    <tr>\n",
       "      <th>3</th>\n",
       "      <td>ham</td>\n",
       "      <td>U dun say so early hor... U c already then say...</td>\n",
       "    </tr>\n",
       "    <tr>\n",
       "      <th>4</th>\n",
       "      <td>ham</td>\n",
       "      <td>Nah I don't think he goes to usf, he lives aro...</td>\n",
       "    </tr>\n",
       "  </tbody>\n",
       "</table>\n",
       "</div>"
      ],
      "text/plain": [
       "     v1                                                 v2\n",
       "0   ham  Go until jurong point, crazy.. Available only ...\n",
       "1   ham                      Ok lar... Joking wif u oni...\n",
       "2  spam  Free entry in 2 a wkly comp to win FA Cup fina...\n",
       "3   ham  U dun say so early hor... U c already then say...\n",
       "4   ham  Nah I don't think he goes to usf, he lives aro..."
      ]
     },
     "execution_count": 18,
     "metadata": {},
     "output_type": "execute_result"
    }
   ],
   "source": [
    "df = pd.read_csv('spam.csv', encoding = 'latin-1', usecols=['v1', 'v2'])\n",
    "df.head()"
   ]
  },
  {
   "cell_type": "markdown",
   "metadata": {},
   "source": [
    "## Data Preprocessing"
   ]
  },
  {
   "cell_type": "code",
   "execution_count": 19,
   "metadata": {},
   "outputs": [
    {
     "data": {
      "text/html": [
       "<div>\n",
       "<style scoped>\n",
       "    .dataframe tbody tr th:only-of-type {\n",
       "        vertical-align: middle;\n",
       "    }\n",
       "\n",
       "    .dataframe tbody tr th {\n",
       "        vertical-align: top;\n",
       "    }\n",
       "\n",
       "    .dataframe thead th {\n",
       "        text-align: right;\n",
       "    }\n",
       "</style>\n",
       "<table border=\"1\" class=\"dataframe\">\n",
       "  <thead>\n",
       "    <tr style=\"text-align: right;\">\n",
       "      <th></th>\n",
       "      <th>Category</th>\n",
       "      <th>Email</th>\n",
       "    </tr>\n",
       "  </thead>\n",
       "  <tbody>\n",
       "    <tr>\n",
       "      <th>3159</th>\n",
       "      <td>ham</td>\n",
       "      <td>How much did ur hdd casing cost.</td>\n",
       "    </tr>\n",
       "  </tbody>\n",
       "</table>\n",
       "</div>"
      ],
      "text/plain": [
       "     Category                             Email\n",
       "3159      ham  How much did ur hdd casing cost."
      ]
     },
     "execution_count": 19,
     "metadata": {},
     "output_type": "execute_result"
    }
   ],
   "source": [
    "df.columns = ['Category', 'Email']\n",
    "df.sample()"
   ]
  },
  {
   "cell_type": "code",
   "execution_count": 20,
   "metadata": {},
   "outputs": [
    {
     "data": {
      "text/html": [
       "<div>\n",
       "<style scoped>\n",
       "    .dataframe tbody tr th:only-of-type {\n",
       "        vertical-align: middle;\n",
       "    }\n",
       "\n",
       "    .dataframe tbody tr th {\n",
       "        vertical-align: top;\n",
       "    }\n",
       "\n",
       "    .dataframe thead th {\n",
       "        text-align: right;\n",
       "    }\n",
       "</style>\n",
       "<table border=\"1\" class=\"dataframe\">\n",
       "  <thead>\n",
       "    <tr style=\"text-align: right;\">\n",
       "      <th></th>\n",
       "      <th>Category</th>\n",
       "      <th>Email</th>\n",
       "      <th>Spam</th>\n",
       "    </tr>\n",
       "  </thead>\n",
       "  <tbody>\n",
       "    <tr>\n",
       "      <th>2507</th>\n",
       "      <td>ham</td>\n",
       "      <td>Yup...</td>\n",
       "      <td>0</td>\n",
       "    </tr>\n",
       "    <tr>\n",
       "      <th>5143</th>\n",
       "      <td>ham</td>\n",
       "      <td>Hi darlin im on helens fone im gonna b up the ...</td>\n",
       "      <td>0</td>\n",
       "    </tr>\n",
       "    <tr>\n",
       "      <th>2567</th>\n",
       "      <td>ham</td>\n",
       "      <td>I dont want to hear anything</td>\n",
       "      <td>0</td>\n",
       "    </tr>\n",
       "  </tbody>\n",
       "</table>\n",
       "</div>"
      ],
      "text/plain": [
       "     Category                                              Email  Spam\n",
       "2507      ham                                             Yup...     0\n",
       "5143      ham  Hi darlin im on helens fone im gonna b up the ...     0\n",
       "2567      ham                       I dont want to hear anything     0"
      ]
     },
     "execution_count": 20,
     "metadata": {},
     "output_type": "execute_result"
    }
   ],
   "source": [
    "df['Spam'] = df['Category'].map({\n",
    "    'ham' : 0,\n",
    "    'spam' : 1\n",
    " })\n",
    "df.sample(3)"
   ]
  },
  {
   "cell_type": "code",
   "execution_count": 21,
   "metadata": {},
   "outputs": [],
   "source": [
    "X = df['Email']\n",
    "y = df['Spam'].values"
   ]
  },
  {
   "cell_type": "markdown",
   "metadata": {},
   "source": [
    "## Splitting the dataset into the Training set and Test set"
   ]
  },
  {
   "cell_type": "code",
   "execution_count": 22,
   "metadata": {},
   "outputs": [],
   "source": [
    "from sklearn.model_selection import train_test_split\n",
    "X_train, X_test, y_train, y_test = train_test_split(X, y, test_size = 0.33, random_state = 48)"
   ]
  },
  {
   "cell_type": "markdown",
   "metadata": {},
   "source": [
    "## Model Training"
   ]
  },
  {
   "cell_type": "code",
   "execution_count": 23,
   "metadata": {},
   "outputs": [],
   "source": [
    "MAX_VOCABULARY_SIZE = 20000\n",
    "tokenizer = tf.keras.preprocessing.text.Tokenizer(num_words = MAX_VOCABULARY_SIZE)\n",
    "tokenizer.fit_on_texts(X_train)\n",
    "sequences_train = tokenizer.texts_to_sequences(X_train)\n",
    "sequences_test = tokenizer.texts_to_sequences(X_test)"
   ]
  },
  {
   "cell_type": "code",
   "execution_count": 24,
   "metadata": {},
   "outputs": [
    {
     "name": "stdout",
     "output_type": "stream",
     "text": [
      "Found 7248 unique tokens.\n"
     ]
    }
   ],
   "source": [
    "word2idx = tokenizer.word_index\n",
    "V = len(word2idx)\n",
    "print(f'Found {V} unique tokens.')"
   ]
  },
  {
   "cell_type": "code",
   "execution_count": 25,
   "metadata": {},
   "outputs": [
    {
     "name": "stdout",
     "output_type": "stream",
     "text": [
      "Shape of data train tensor:  (3733, 121)\n"
     ]
    }
   ],
   "source": [
    "data_train = tf.keras.preprocessing.sequence.pad_sequences(sequences_train)\n",
    "print('Shape of data train tensor: ', data_train.shape)\n",
    "\n",
    "T = data_train.shape[1]"
   ]
  },
  {
   "cell_type": "code",
   "execution_count": 26,
   "metadata": {},
   "outputs": [
    {
     "name": "stdout",
     "output_type": "stream",
     "text": [
      "Shape of data train tensor:  (1839, 121)\n"
     ]
    }
   ],
   "source": [
    "data_test = tf.keras.preprocessing.sequence.pad_sequences(sequences_test, maxlen = T)\n",
    "print('Shape of data train tensor: ', data_test.shape)"
   ]
  },
  {
   "cell_type": "code",
   "execution_count": 27,
   "metadata": {},
   "outputs": [],
   "source": [
    "# Embedding Dimensionality\n",
    "D =20\n",
    "\n",
    "# Hidden State Dimensinality\n",
    "M = 15"
   ]
  },
  {
   "cell_type": "code",
   "execution_count": 33,
   "metadata": {},
   "outputs": [],
   "source": [
    "model = tf.keras.models.Sequential([\n",
    "    tf.keras.layers.Embedding(input_dim=V+1, output_dim=D, input_length=T),\n",
    "    tf.keras.layers.LSTM(M, return_sequences=True),\n",
    "    tf.keras.layers.GlobalMaxPooling1D(),\n",
    "    tf.keras.layers.Dense(1, activation = 'sigmoid')\n",
    "])\n"
   ]
  },
  {
   "cell_type": "code",
   "execution_count": 34,
   "metadata": {},
   "outputs": [
    {
     "name": "stdout",
     "output_type": "stream",
     "text": [
      "Training Data.....\n",
      "Epoch 1/10\n",
      "117/117 [==============================] - 14s 70ms/step - loss: 0.4390 - accuracy: 0.8674 - val_loss: 0.3902 - val_accuracy: 0.8630\n",
      "Epoch 2/10\n",
      "117/117 [==============================] - 6s 49ms/step - loss: 0.3377 - accuracy: 0.8674 - val_loss: 0.3007 - val_accuracy: 0.8630\n",
      "Epoch 3/10\n",
      "117/117 [==============================] - 8s 71ms/step - loss: 0.2423 - accuracy: 0.8674 - val_loss: 0.2192 - val_accuracy: 0.8630\n",
      "Epoch 4/10\n",
      "117/117 [==============================] - 6s 50ms/step - loss: 0.1742 - accuracy: 0.9220 - val_loss: 0.1670 - val_accuracy: 0.9625\n",
      "Epoch 5/10\n",
      "117/117 [==============================] - 10s 83ms/step - loss: 0.1124 - accuracy: 0.9912 - val_loss: 0.1154 - val_accuracy: 0.9750\n",
      "Epoch 6/10\n",
      "117/117 [==============================] - 6s 52ms/step - loss: 0.0666 - accuracy: 0.9941 - val_loss: 0.0845 - val_accuracy: 0.9799\n",
      "Epoch 7/10\n",
      "117/117 [==============================] - 8s 68ms/step - loss: 0.0437 - accuracy: 0.9960 - val_loss: 0.0740 - val_accuracy: 0.9837\n",
      "Epoch 8/10\n",
      "117/117 [==============================] - 7s 62ms/step - loss: 0.0302 - accuracy: 0.9965 - val_loss: 0.0656 - val_accuracy: 0.9853\n",
      "Epoch 9/10\n",
      "117/117 [==============================] - 6s 54ms/step - loss: 0.0224 - accuracy: 0.9981 - val_loss: 0.0633 - val_accuracy: 0.9815\n",
      "Epoch 10/10\n",
      "117/117 [==============================] - 8s 69ms/step - loss: 0.0169 - accuracy: 0.9984 - val_loss: 0.0619 - val_accuracy: 0.9821\n"
     ]
    }
   ],
   "source": [
    "# Complie \n",
    "model.compile(loss = 'binary_crossentropy', optimizer = 'adam', metrics = ['accuracy'])\n",
    "\n",
    "# fit\n",
    "print('Training Data.....')\n",
    "r = model.fit(data_train, y_train, epochs = 10, validation_data = (data_test, y_test))"
   ]
  },
  {
   "cell_type": "code",
   "execution_count": 60,
   "metadata": {},
   "outputs": [
    {
     "data": {
      "image/png": "[encoded data removed]",
      "text/plain": [
       "<Figure size 400x300 with 1 Axes>"
      ]
     },
     "metadata": {},
     "output_type": "display_data"
    }
   ],
   "source": [
    "plt.figure(figsize= (4,3))\n",
    "\n",
    "plt.plot(r.history['loss'], label = 'loss')\n",
    "plt.plot(r.history['val_loss'], label = 'val_loss')\n",
    "plt.xlabel('No. of Epochs')\n",
    "plt.ylabel('loss')\n",
    "plt.legend()\n",
    "plt.show()"
   ]
  },
  {
   "cell_type": "code",
   "execution_count": 61,
   "metadata": {},
   "outputs": [
    {
     "data": {
      "image/png": "[encoded data removed]",
      "text/plain": [
       "<Figure size 400x300 with 1 Axes>"
      ]
     },
     "metadata": {},
     "output_type": "display_data"
    }
   ],
   "source": [
    "plt.figure(figsize= (4,3))\n",
    "\n",
    "plt.plot(r.history['accuracy'], label = 'accuracy')\n",
    "plt.plot(r.history['val_accuracy'], label = 'val_accuracy')\n",
    "plt.xlabel('No. of Epochs')\n",
    "plt.ylabel('Accuracy Value')\n",
    "plt.legend()\n",
    "plt.show()"
   ]
  },
  {
   "cell_type": "markdown",
   "metadata": {},
   "source": [
    "## Prediction on single data"
   ]
  },
  {
   "cell_type": "code",
   "execution_count": 62,
   "metadata": {},
   "outputs": [
    {
     "name": "stdout",
     "output_type": "stream",
     "text": [
      "Email is Spam.\n",
      "\n"
     ]
    }
   ],
   "source": [
    "\"\"\"Eaxmple :\n",
    "Subject: Exclusive Offer - Claim Your Prize Now!\n",
    "\n",
    "Dear Sinchana,\n",
    "\n",
    "Congratulations! You have been selected as the lucky winner of our exclusive promotion. You have won a brand new [Fictional Product] and a cash prize of $10,000! To claim your rewards, click on the link below:\n",
    "\n",
    "http://example.com/offer\n",
    "\n",
    "Act fast! This is a limited-time offer, and you don't want to miss out on your winnings.\n",
    "\n",
    "Best regards,\n",
    "VCompany\n",
    "\"\"\" \n",
    "\n",
    "while True:\n",
    "    curr_input = input()\n",
    "    if curr_input == 'quit':\n",
    "        break\n",
    "    # Tokenize the input string\n",
    "    tokenized_input = tokenizer.texts_to_sequences([curr_input])\n",
    "\n",
    "    # Adjusting according to your specific model's input shape\n",
    "    tokenized_input = tf.keras.preprocessing.sequence.pad_sequences(tokenized_input, maxlen=T, padding='post')\n",
    "\n",
    "    # Perform prediction\n",
    "    pred = model.predict(tokenized_input, verbose=False)[0][0]\n",
    "    \n",
    "    if pred > 0.5 :\n",
    "        print(\"Email is Spam.\")\n",
    "    else:\n",
    "        print(\"Email is not Spam.\")\n",
    "    print()"
   ]
  },
  {
   "cell_type": "code",
   "execution_count": null,
   "metadata": {},
   "outputs": [],
   "source": []
  }
 ],
 "metadata": {
  "kernelspec": {
   "display_name": "base",
   "language": "python",
   "name": "python3"
  },
  "language_info": {
   "codemirror_mode": {
    "name": "ipython",
    "version": 3
   },
   "file_extension": ".py",
   "mimetype": "text/x-python",
   "name": "python",
   "nbconvert_exporter": "python",
   "pygments_lexer": "ipython3",
   "version": "3.9.12"
  }
 },
 "nbformat": 4,
 "nbformat_minor": 2
}
